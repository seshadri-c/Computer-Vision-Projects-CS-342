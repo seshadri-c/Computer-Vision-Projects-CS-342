{
 "cells": [
  {
   "cell_type": "code",
   "execution_count": 1,
   "metadata": {},
   "outputs": [],
   "source": [
    "%matplotlib notebook\n",
    "%load_ext autoreload\n",
    "%autoreload 2\n",
    "import cv2\n",
    "import numpy as np\n",
    "import matplotlib.pyplot as plt\n",
    "from utils import *\n",
    "import student_code as sc"
   ]
  },
  {
   "cell_type": "code",
   "execution_count": 2,
   "metadata": {},
   "outputs": [],
   "source": [
    "# Load the data\n",
    "points_2d = np.loadtxt('../data/pts2d-norm-pic_a.txt')\n",
    "points_3d = np.loadtxt('../data/pts3d-norm.txt')\n",
    "\n",
    "# (Optional) Uncomment these four lines once you have your code working with the easier, normalized points above.\n",
    "# points_2d = np.loadtxt('../data/pts2d-norm-pic_b.txt')\n",
    "# points_3d = np.loadtxt('../data/pts3d.txt')"
   ]
  },
  {
   "cell_type": "code",
   "execution_count": 4,
   "metadata": {},
   "outputs": [
    {
     "data": {
      "text/plain": [
       "array([[ 1.0486, -0.3645],\n",
       "       [-1.6851, -0.4004],\n",
       "       [-0.9437, -0.42  ],\n",
       "       [ 1.0682,  0.0699],\n",
       "       [ 0.6077, -0.0771],\n",
       "       [ 1.2543, -0.6454],\n",
       "       [-0.2709,  0.8635],\n",
       "       [-0.4571, -0.3645],\n",
       "       [-0.7902,  0.0307],\n",
       "       [ 0.7318,  0.6382],\n",
       "       [-1.058 ,  0.3312],\n",
       "       [ 0.3464,  0.3377],\n",
       "       [ 0.3137,  0.1189],\n",
       "       [-0.431 ,  0.0242],\n",
       "       [-0.4799,  0.292 ],\n",
       "       [ 0.6109,  0.083 ],\n",
       "       [-0.4081,  0.292 ],\n",
       "       [-0.1109, -0.2992],\n",
       "       [ 0.5129, -0.0575],\n",
       "       [ 0.1406, -0.4527]])"
      ]
     },
     "execution_count": 4,
     "metadata": {},
     "output_type": "execute_result"
    }
   ],
   "source": [
    "points_2d"
   ]
  },
  {
   "cell_type": "code",
   "execution_count": 5,
   "metadata": {},
   "outputs": [
    {
     "data": {
      "text/plain": [
       "array([[ 1.5706, -0.149 ,  0.2598],\n",
       "       [-1.5282,  0.9695,  0.3802],\n",
       "       [-0.6821,  1.2856,  0.4078],\n",
       "       [ 0.4124, -1.0201, -0.0915],\n",
       "       [ 1.2095,  0.2812, -0.128 ],\n",
       "       [ 0.8819, -0.8481,  0.5255],\n",
       "       [-0.9442, -1.1583, -0.3759],\n",
       "       [ 0.0415,  1.3445,  0.324 ],\n",
       "       [-0.7975,  0.3017, -0.0826],\n",
       "       [-0.4329, -1.4151, -0.2774],\n",
       "       [-1.1475, -0.0772, -0.2667],\n",
       "       [-0.5149, -1.1784, -0.1401],\n",
       "       [ 0.1993, -0.2854, -0.2114],\n",
       "       [-0.432 ,  0.2143, -0.1053],\n",
       "       [-0.7481, -0.384 , -0.2408],\n",
       "       [ 0.8078, -0.1196, -0.2631],\n",
       "       [-0.7605, -0.5792, -0.1936],\n",
       "       [ 0.3237,  0.797 ,  0.217 ],\n",
       "       [ 1.3089,  0.5786, -0.1887],\n",
       "       [ 1.2323,  1.4421,  0.4506]])"
      ]
     },
     "execution_count": 5,
     "metadata": {},
     "output_type": "execute_result"
    }
   ],
   "source": [
    "points_3d"
   ]
  },
  {
   "cell_type": "code",
   "execution_count": 7,
   "metadata": {},
   "outputs": [],
   "source": [
    "num_points = points_3d.shape[0]\n",
    "num_variables = 11"
   ]
  },
  {
   "cell_type": "code",
   "execution_count": 6,
   "metadata": {},
   "outputs": [
    {
     "data": {
      "text/plain": [
       "20"
      ]
     },
     "execution_count": 6,
     "metadata": {},
     "output_type": "execute_result"
    }
   ],
   "source": [
    "num_points"
   ]
  },
  {
   "cell_type": "code",
   "execution_count": 8,
   "metadata": {},
   "outputs": [],
   "source": [
    "\n",
    "# AM = b\n",
    "A = np.zeros((2*num_points, num_variables), dtype=np.float)\n",
    "b = np.zeros((2*num_points), dtype=np.float)\n",
    "# Form set of linear equations"
   ]
  },
  {
   "cell_type": "code",
   "execution_count": 11,
   "metadata": {},
   "outputs": [],
   "source": [
    "for ix, ([u, v], [x, y, z]) in enumerate(zip(points_2d, points_3d)):\n",
    "    A[2*ix, :]   = [x, y, z, 1, 0, 0, 0, 0, -u*x, -u*y, -u*z]\n",
    "    A[2*ix+1, :] = [0, 0, 0, 0, x, y, z, 1, -v*x, -v*y, -v*z]\n",
    "    b[2*ix]      = u\n",
    "    b[2*ix+1]    = v"
   ]
  },
  {
   "cell_type": "code",
   "execution_count": 12,
   "metadata": {},
   "outputs": [
    {
     "data": {
      "text/plain": [
       "array([[ 1.57060000e+00, -1.49000000e-01,  2.59800000e-01,\n",
       "         1.00000000e+00,  0.00000000e+00,  0.00000000e+00,\n",
       "         0.00000000e+00,  0.00000000e+00, -1.64693116e+00,\n",
       "         1.56241400e-01, -2.72426280e-01],\n",
       "       [ 0.00000000e+00,  0.00000000e+00,  0.00000000e+00,\n",
       "         0.00000000e+00,  1.57060000e+00, -1.49000000e-01,\n",
       "         2.59800000e-01,  1.00000000e+00,  5.72483700e-01,\n",
       "        -5.43105000e-02,  9.46971000e-02],\n",
       "       [-1.52820000e+00,  9.69500000e-01,  3.80200000e-01,\n",
       "         1.00000000e+00,  0.00000000e+00,  0.00000000e+00,\n",
       "         0.00000000e+00,  0.00000000e+00, -2.57516982e+00,\n",
       "         1.63370445e+00,  6.40675020e-01],\n",
       "       [ 0.00000000e+00,  0.00000000e+00,  0.00000000e+00,\n",
       "         0.00000000e+00, -1.52820000e+00,  9.69500000e-01,\n",
       "         3.80200000e-01,  1.00000000e+00, -6.11891280e-01,\n",
       "         3.88187800e-01,  1.52232080e-01],\n",
       "       [-6.82100000e-01,  1.28560000e+00,  4.07800000e-01,\n",
       "         1.00000000e+00,  0.00000000e+00,  0.00000000e+00,\n",
       "         0.00000000e+00,  0.00000000e+00, -6.43697770e-01,\n",
       "         1.21322072e+00,  3.84840860e-01],\n",
       "       [ 0.00000000e+00,  0.00000000e+00,  0.00000000e+00,\n",
       "         0.00000000e+00, -6.82100000e-01,  1.28560000e+00,\n",
       "         4.07800000e-01,  1.00000000e+00, -2.86482000e-01,\n",
       "         5.39952000e-01,  1.71276000e-01],\n",
       "       [ 4.12400000e-01, -1.02010000e+00, -9.15000000e-02,\n",
       "         1.00000000e+00,  0.00000000e+00,  0.00000000e+00,\n",
       "         0.00000000e+00,  0.00000000e+00, -4.40525680e-01,\n",
       "         1.08967082e+00,  9.77403000e-02],\n",
       "       [ 0.00000000e+00,  0.00000000e+00,  0.00000000e+00,\n",
       "         0.00000000e+00,  4.12400000e-01, -1.02010000e+00,\n",
       "        -9.15000000e-02,  1.00000000e+00, -2.88267600e-02,\n",
       "         7.13049900e-02,  6.39585000e-03],\n",
       "       [ 1.20950000e+00,  2.81200000e-01, -1.28000000e-01,\n",
       "         1.00000000e+00,  0.00000000e+00,  0.00000000e+00,\n",
       "         0.00000000e+00,  0.00000000e+00, -7.35013150e-01,\n",
       "        -1.70885240e-01,  7.77856000e-02],\n",
       "       [ 0.00000000e+00,  0.00000000e+00,  0.00000000e+00,\n",
       "         0.00000000e+00,  1.20950000e+00,  2.81200000e-01,\n",
       "        -1.28000000e-01,  1.00000000e+00,  9.32524500e-02,\n",
       "         2.16805200e-02, -9.86880000e-03],\n",
       "       [ 8.81900000e-01, -8.48100000e-01,  5.25500000e-01,\n",
       "         1.00000000e+00,  0.00000000e+00,  0.00000000e+00,\n",
       "         0.00000000e+00,  0.00000000e+00, -1.10616717e+00,\n",
       "         1.06377183e+00, -6.59134650e-01],\n",
       "       [ 0.00000000e+00,  0.00000000e+00,  0.00000000e+00,\n",
       "         0.00000000e+00,  8.81900000e-01, -8.48100000e-01,\n",
       "         5.25500000e-01,  1.00000000e+00,  5.69178260e-01,\n",
       "        -5.47363740e-01,  3.39157700e-01],\n",
       "       [-9.44200000e-01, -1.15830000e+00, -3.75900000e-01,\n",
       "         1.00000000e+00,  0.00000000e+00,  0.00000000e+00,\n",
       "         0.00000000e+00,  0.00000000e+00, -2.55783780e-01,\n",
       "        -3.13783470e-01, -1.01831310e-01],\n",
       "       [ 0.00000000e+00,  0.00000000e+00,  0.00000000e+00,\n",
       "         0.00000000e+00, -9.44200000e-01, -1.15830000e+00,\n",
       "        -3.75900000e-01,  1.00000000e+00,  8.15316700e-01,\n",
       "         1.00019205e+00,  3.24589650e-01],\n",
       "       [ 4.15000000e-02,  1.34450000e+00,  3.24000000e-01,\n",
       "         1.00000000e+00,  0.00000000e+00,  0.00000000e+00,\n",
       "         0.00000000e+00,  0.00000000e+00,  1.89696500e-02,\n",
       "         6.14570950e-01,  1.48100400e-01],\n",
       "       [ 0.00000000e+00,  0.00000000e+00,  0.00000000e+00,\n",
       "         0.00000000e+00,  4.15000000e-02,  1.34450000e+00,\n",
       "         3.24000000e-01,  1.00000000e+00,  1.51267500e-02,\n",
       "         4.90070250e-01,  1.18098000e-01],\n",
       "       [-7.97500000e-01,  3.01700000e-01, -8.26000000e-02,\n",
       "         1.00000000e+00,  0.00000000e+00,  0.00000000e+00,\n",
       "         0.00000000e+00,  0.00000000e+00, -6.30184500e-01,\n",
       "         2.38403340e-01, -6.52705200e-02],\n",
       "       [ 0.00000000e+00,  0.00000000e+00,  0.00000000e+00,\n",
       "         0.00000000e+00, -7.97500000e-01,  3.01700000e-01,\n",
       "        -8.26000000e-02,  1.00000000e+00,  2.44832500e-02,\n",
       "        -9.26219000e-03,  2.53582000e-03],\n",
       "       [-4.32900000e-01, -1.41510000e+00, -2.77400000e-01,\n",
       "         1.00000000e+00,  0.00000000e+00,  0.00000000e+00,\n",
       "         0.00000000e+00,  0.00000000e+00,  3.16796220e-01,\n",
       "         1.03557018e+00,  2.03001320e-01],\n",
       "       [ 0.00000000e+00,  0.00000000e+00,  0.00000000e+00,\n",
       "         0.00000000e+00, -4.32900000e-01, -1.41510000e+00,\n",
       "        -2.77400000e-01,  1.00000000e+00,  2.76276780e-01,\n",
       "         9.03116820e-01,  1.77036680e-01],\n",
       "       [-1.14750000e+00, -7.72000000e-02, -2.66700000e-01,\n",
       "         1.00000000e+00,  0.00000000e+00,  0.00000000e+00,\n",
       "         0.00000000e+00,  0.00000000e+00, -1.21405500e+00,\n",
       "        -8.16776000e-02, -2.82168600e-01],\n",
       "       [ 0.00000000e+00,  0.00000000e+00,  0.00000000e+00,\n",
       "         0.00000000e+00, -1.14750000e+00, -7.72000000e-02,\n",
       "        -2.66700000e-01,  1.00000000e+00,  3.80052000e-01,\n",
       "         2.55686400e-02,  8.83310400e-02],\n",
       "       [-5.14900000e-01, -1.17840000e+00, -1.40100000e-01,\n",
       "         1.00000000e+00,  0.00000000e+00,  0.00000000e+00,\n",
       "         0.00000000e+00,  0.00000000e+00,  1.78361360e-01,\n",
       "         4.08197760e-01,  4.85306400e-02],\n",
       "       [ 0.00000000e+00,  0.00000000e+00,  0.00000000e+00,\n",
       "         0.00000000e+00, -5.14900000e-01, -1.17840000e+00,\n",
       "        -1.40100000e-01,  1.00000000e+00,  1.73881730e-01,\n",
       "         3.97945680e-01,  4.73117700e-02],\n",
       "       [ 1.99300000e-01, -2.85400000e-01, -2.11400000e-01,\n",
       "         1.00000000e+00,  0.00000000e+00,  0.00000000e+00,\n",
       "         0.00000000e+00,  0.00000000e+00, -6.25204100e-02,\n",
       "         8.95299800e-02,  6.63161800e-02],\n",
       "       [ 0.00000000e+00,  0.00000000e+00,  0.00000000e+00,\n",
       "         0.00000000e+00,  1.99300000e-01, -2.85400000e-01,\n",
       "        -2.11400000e-01,  1.00000000e+00, -2.36967700e-02,\n",
       "         3.39340600e-02,  2.51354600e-02],\n",
       "       [-4.32000000e-01,  2.14300000e-01, -1.05300000e-01,\n",
       "         1.00000000e+00,  0.00000000e+00,  0.00000000e+00,\n",
       "         0.00000000e+00,  0.00000000e+00, -1.86192000e-01,\n",
       "         9.23633000e-02, -4.53843000e-02],\n",
       "       [ 0.00000000e+00,  0.00000000e+00,  0.00000000e+00,\n",
       "         0.00000000e+00, -4.32000000e-01,  2.14300000e-01,\n",
       "        -1.05300000e-01,  1.00000000e+00,  1.04544000e-02,\n",
       "        -5.18606000e-03,  2.54826000e-03],\n",
       "       [-7.48100000e-01, -3.84000000e-01, -2.40800000e-01,\n",
       "         1.00000000e+00,  0.00000000e+00,  0.00000000e+00,\n",
       "         0.00000000e+00,  0.00000000e+00, -3.59013190e-01,\n",
       "        -1.84281600e-01, -1.15559920e-01],\n",
       "       [ 0.00000000e+00,  0.00000000e+00,  0.00000000e+00,\n",
       "         0.00000000e+00, -7.48100000e-01, -3.84000000e-01,\n",
       "        -2.40800000e-01,  1.00000000e+00,  2.18445200e-01,\n",
       "         1.12128000e-01,  7.03136000e-02],\n",
       "       [ 8.07800000e-01, -1.19600000e-01, -2.63100000e-01,\n",
       "         1.00000000e+00,  0.00000000e+00,  0.00000000e+00,\n",
       "         0.00000000e+00,  0.00000000e+00, -4.93485020e-01,\n",
       "         7.30636400e-02,  1.60727790e-01],\n",
       "       [ 0.00000000e+00,  0.00000000e+00,  0.00000000e+00,\n",
       "         0.00000000e+00,  8.07800000e-01, -1.19600000e-01,\n",
       "        -2.63100000e-01,  1.00000000e+00, -6.70474000e-02,\n",
       "         9.92680000e-03,  2.18373000e-02],\n",
       "       [-7.60500000e-01, -5.79200000e-01, -1.93600000e-01,\n",
       "         1.00000000e+00,  0.00000000e+00,  0.00000000e+00,\n",
       "         0.00000000e+00,  0.00000000e+00, -3.10360050e-01,\n",
       "        -2.36371520e-01, -7.90081600e-02],\n",
       "       [ 0.00000000e+00,  0.00000000e+00,  0.00000000e+00,\n",
       "         0.00000000e+00, -7.60500000e-01, -5.79200000e-01,\n",
       "        -1.93600000e-01,  1.00000000e+00,  2.22066000e-01,\n",
       "         1.69126400e-01,  5.65312000e-02],\n",
       "       [ 3.23700000e-01,  7.97000000e-01,  2.17000000e-01,\n",
       "         1.00000000e+00,  0.00000000e+00,  0.00000000e+00,\n",
       "         0.00000000e+00,  0.00000000e+00,  3.58983300e-02,\n",
       "         8.83873000e-02,  2.40653000e-02],\n",
       "       [ 0.00000000e+00,  0.00000000e+00,  0.00000000e+00,\n",
       "         0.00000000e+00,  3.23700000e-01,  7.97000000e-01,\n",
       "         2.17000000e-01,  1.00000000e+00,  9.68510400e-02,\n",
       "         2.38462400e-01,  6.49264000e-02],\n",
       "       [ 1.30890000e+00,  5.78600000e-01, -1.88700000e-01,\n",
       "         1.00000000e+00,  0.00000000e+00,  0.00000000e+00,\n",
       "         0.00000000e+00,  0.00000000e+00, -6.71334810e-01,\n",
       "        -2.96763940e-01,  9.67842300e-02],\n",
       "       [ 0.00000000e+00,  0.00000000e+00,  0.00000000e+00,\n",
       "         0.00000000e+00,  1.30890000e+00,  5.78600000e-01,\n",
       "        -1.88700000e-01,  1.00000000e+00,  7.52617500e-02,\n",
       "         3.32695000e-02, -1.08502500e-02],\n",
       "       [ 1.23230000e+00,  1.44210000e+00,  4.50600000e-01,\n",
       "         1.00000000e+00,  0.00000000e+00,  0.00000000e+00,\n",
       "         0.00000000e+00,  0.00000000e+00, -1.73261380e-01,\n",
       "        -2.02759260e-01, -6.33543600e-02],\n",
       "       [ 0.00000000e+00,  0.00000000e+00,  0.00000000e+00,\n",
       "         0.00000000e+00,  1.23230000e+00,  1.44210000e+00,\n",
       "         4.50600000e-01,  1.00000000e+00,  5.57862210e-01,\n",
       "         6.52838670e-01,  2.03986620e-01]])"
      ]
     },
     "execution_count": 12,
     "metadata": {},
     "output_type": "execute_result"
    }
   ],
   "source": [
    "A"
   ]
  },
  {
   "cell_type": "code",
   "execution_count": 13,
   "metadata": {},
   "outputs": [
    {
     "data": {
      "text/plain": [
       "array([ 1.0486, -0.3645, -1.6851, -0.4004, -0.9437, -0.42  ,  1.0682,\n",
       "        0.0699,  0.6077, -0.0771,  1.2543, -0.6454, -0.2709,  0.8635,\n",
       "       -0.4571, -0.3645, -0.7902,  0.0307,  0.7318,  0.6382, -1.058 ,\n",
       "        0.3312,  0.3464,  0.3377,  0.3137,  0.1189, -0.431 ,  0.0242,\n",
       "       -0.4799,  0.292 ,  0.6109,  0.083 , -0.4081,  0.292 , -0.1109,\n",
       "       -0.2992,  0.5129, -0.0575,  0.1406, -0.4527])"
      ]
     },
     "execution_count": 13,
     "metadata": {},
     "output_type": "execute_result"
    }
   ],
   "source": [
    "b"
   ]
  },
  {
   "cell_type": "code",
   "execution_count": 16,
   "metadata": {},
   "outputs": [],
   "source": [
    "z = np.array([1,2])"
   ]
  },
  {
   "cell_type": "code",
   "execution_count": 20,
   "metadata": {},
   "outputs": [
    {
     "data": {
      "text/plain": [
       "array([1, 2])"
      ]
     },
     "execution_count": 20,
     "metadata": {},
     "output_type": "execute_result"
    }
   ],
   "source": [
    "z"
   ]
  },
  {
   "cell_type": "code",
   "execution_count": 21,
   "metadata": {},
   "outputs": [
    {
     "data": {
      "text/plain": [
       "array([1, 2])"
      ]
     },
     "execution_count": 21,
     "metadata": {},
     "output_type": "execute_result"
    }
   ],
   "source": [
    "z1 = np.array([1,2])\n",
    "z1"
   ]
  },
  {
   "cell_type": "code",
   "execution_count": 22,
   "metadata": {},
   "outputs": [],
   "source": [
    "k = z1.T @ z"
   ]
  },
  {
   "cell_type": "code",
   "execution_count": 23,
   "metadata": {},
   "outputs": [
    {
     "data": {
      "text/plain": [
       "5"
      ]
     },
     "execution_count": 23,
     "metadata": {},
     "output_type": "execute_result"
    }
   ],
   "source": [
    "k"
   ]
  },
  {
   "cell_type": "code",
   "execution_count": 14,
   "metadata": {},
   "outputs": [],
   "source": [
    "# Solve for M\n",
    "# M = (A'A)^-1.A'b\n",
    "M = np.linalg.inv(A.T@A) @ A.T @ b"
   ]
  },
  {
   "cell_type": "code",
   "execution_count": 24,
   "metadata": {},
   "outputs": [
    {
     "data": {
      "text/plain": [
       "array([ 0.76785834, -0.49384797, -0.02339781,  0.00674445, -0.0852134 ,\n",
       "       -0.09146818, -0.90652332, -0.08775678,  0.18265016,  0.29882917,\n",
       "       -0.07419242])"
      ]
     },
     "execution_count": 24,
     "metadata": {},
     "output_type": "execute_result"
    }
   ],
   "source": [
    "M"
   ]
  },
  {
   "cell_type": "code",
   "execution_count": null,
   "metadata": {},
   "outputs": [],
   "source": []
  },
  {
   "cell_type": "code",
   "execution_count": 25,
   "metadata": {},
   "outputs": [],
   "source": [
    "# M = np.linalg.lstsq(A, b)[0]\n",
    "M = np.append(M, 1).reshape((3, 4))"
   ]
  },
  {
   "cell_type": "code",
   "execution_count": 26,
   "metadata": {},
   "outputs": [
    {
     "data": {
      "text/plain": [
       "array([[ 0.76785834, -0.49384797, -0.02339781,  0.00674445],\n",
       "       [-0.0852134 , -0.09146818, -0.90652332, -0.08775678],\n",
       "       [ 0.18265016,  0.29882917, -0.07419242,  1.        ]])"
      ]
     },
     "execution_count": 26,
     "metadata": {},
     "output_type": "execute_result"
    }
   ],
   "source": [
    "M"
   ]
  },
  {
   "cell_type": "code",
   "execution_count": 27,
   "metadata": {},
   "outputs": [],
   "source": [
    "Q = M[:, :3]"
   ]
  },
  {
   "cell_type": "code",
   "execution_count": 28,
   "metadata": {},
   "outputs": [
    {
     "data": {
      "text/plain": [
       "array([[ 0.76785834, -0.49384797, -0.02339781],\n",
       "       [-0.0852134 , -0.09146818, -0.90652332],\n",
       "       [ 0.18265016,  0.29882917, -0.07419242]])"
      ]
     },
     "execution_count": 28,
     "metadata": {},
     "output_type": "execute_result"
    }
   ],
   "source": [
    "Q"
   ]
  },
  {
   "cell_type": "code",
   "execution_count": 33,
   "metadata": {},
   "outputs": [
    {
     "data": {
      "text/plain": [
       "array([[-0.93082777,  0.14625955, -1.49352658],\n",
       "       [ 0.57622846,  0.17664309, -2.34004436],\n",
       "       [ 0.02935658,  1.07154387,  0.37650227]])"
      ]
     },
     "execution_count": 33,
     "metadata": {},
     "output_type": "execute_result"
    }
   ],
   "source": [
    "-np.linalg.inv(Q)"
   ]
  },
  {
   "cell_type": "code",
   "execution_count": 29,
   "metadata": {},
   "outputs": [],
   "source": [
    "m4 = M[:, 3]"
   ]
  },
  {
   "cell_type": "code",
   "execution_count": 30,
   "metadata": {},
   "outputs": [
    {
     "data": {
      "text/plain": [
       "array([ 0.00674445, -0.08775678,  1.        ])"
      ]
     },
     "execution_count": 30,
     "metadata": {},
     "output_type": "execute_result"
    }
   ],
   "source": [
    "m4"
   ]
  },
  {
   "cell_type": "code",
   "execution_count": 31,
   "metadata": {},
   "outputs": [],
   "source": [
    "cc = -np.linalg.inv(Q) @ m4"
   ]
  },
  {
   "cell_type": "code",
   "execution_count": 32,
   "metadata": {},
   "outputs": [
    {
     "data": {
      "text/plain": [
       "array([-1.51263977, -2.35165965,  0.28266502])"
      ]
     },
     "execution_count": 32,
     "metadata": {},
     "output_type": "execute_result"
    }
   ],
   "source": [
    "cc"
   ]
  },
  {
   "cell_type": "code",
   "execution_count": null,
   "metadata": {},
   "outputs": [],
   "source": []
  },
  {
   "cell_type": "code",
   "execution_count": 36,
   "metadata": {},
   "outputs": [],
   "source": [
    "# Load the data\n",
    "# Mount Rushmore\n",
    "pic_a = load_image('../data/Mount Rushmore/9193029855_2c85a50e91_o.jpg'); scale_a = 0.25\n",
    "pic_b = load_image('../data/Mount Rushmore/7433804322_06c5620f13_o.jpg'); scale_b = 0.37\n",
    "n_feat = 5e4\n",
    "\n",
    "# Notre Dame\n",
    "# pic_a = load_image('../data/Notre Dame/921919841_a30df938f2_o.jpg'); scale_a = 0.5\n",
    "# pic_b = load_image('../data/Notre Dame/4191453057_c86028ce1f_o.jpg'); scale_b = 0.5\n",
    "# n_feat = 8e3\n",
    "\n",
    "# Gaudi\n",
    "# pic_a = load_image('../data/Episcopal Gaudi/3743214471_1b5bbfda98_o.jpg'); scale_a = 0.8\n",
    "# pic_b = load_image('../data/Episcopal Gaudi/4386465943_8cf9776378_o.jpg'); scale_b = 1.0\n",
    "# n_feat = 2e4\n",
    "\n",
    "# Woodruff\n",
    "# pic_a = load_image('../data/Woodruff Dorm/wood1.jpg'); scale_a = 0.65\n",
    "# pic_b = load_image('../data/Woodruff Dorm/wood2.jpg'); scale_b = 0.65\n",
    "# n_feat = 5e4\n",
    "\n",
    "pic_a = cv2.resize(pic_a, None, fx=scale_a, fy=scale_a)\n",
    "pic_b = cv2.resize(pic_b, None, fx=scale_b, fy=scale_b)"
   ]
  },
  {
   "cell_type": "code",
   "execution_count": 37,
   "metadata": {},
   "outputs": [],
   "source": [
    "# Finds matching points in the two images using OpenCV's implementation of ORB.\n",
    "# There can still be many spurious matches, though.\n",
    "points_2d_pic_a, points_2d_pic_b = get_matches(pic_a, pic_b, n_feat)"
   ]
  },
  {
   "cell_type": "code",
   "execution_count": 38,
   "metadata": {},
   "outputs": [
    {
     "data": {
      "text/plain": [
       "array([[531.60003662, 354.        ],\n",
       "       [437.        , 270.        ],\n",
       "       [799.20001221, 648.        ],\n",
       "       ...,\n",
       "       [984.96014404, 192.84483337],\n",
       "       [ 72.        , 738.        ],\n",
       "       [895.79541016, 653.93066406]])"
      ]
     },
     "execution_count": 38,
     "metadata": {},
     "output_type": "execute_result"
    }
   ],
   "source": [
    "points_2d_pic_a"
   ]
  },
  {
   "cell_type": "code",
   "execution_count": 40,
   "metadata": {},
   "outputs": [
    {
     "data": {
      "text/plain": [
       "1214"
      ]
     },
     "execution_count": 40,
     "metadata": {},
     "output_type": "execute_result"
    }
   ],
   "source": [
    "len(points_2d_pic_a)"
   ]
  },
  {
   "cell_type": "code",
   "execution_count": 39,
   "metadata": {},
   "outputs": [
    {
     "data": {
      "text/plain": [
       "array([[1076.        ,  868.        ],\n",
       "       [ 374.        ,  126.        ],\n",
       "       [ 110.        ,  853.        ],\n",
       "       ...,\n",
       "       [ 519.56134033,  716.63635254],\n",
       "       [ 157.66000366,  770.38409424],\n",
       "       [ 429.98181152,  777.55047607]])"
      ]
     },
     "execution_count": 39,
     "metadata": {},
     "output_type": "execute_result"
    }
   ],
   "source": [
    "points_2d_pic_b"
   ]
  },
  {
   "cell_type": "code",
   "execution_count": 41,
   "metadata": {},
   "outputs": [
    {
     "data": {
      "text/plain": [
       "1214"
      ]
     },
     "execution_count": 41,
     "metadata": {},
     "output_type": "execute_result"
    }
   ],
   "source": [
    "len(points_2d_pic_b)"
   ]
  },
  {
   "cell_type": "code",
   "execution_count": null,
   "metadata": {},
   "outputs": [],
   "source": []
  },
  {
   "cell_type": "code",
   "execution_count": 34,
   "metadata": {},
   "outputs": [
    {
     "ename": "NameError",
     "evalue": "name 'points_2d_pic_a' is not defined",
     "output_type": "error",
     "traceback": [
      "\u001b[0;31m---------------------------------------------------------------------------\u001b[0m",
      "\u001b[0;31mNameError\u001b[0m                                 Traceback (most recent call last)",
      "\u001b[0;32m<ipython-input-34-2e44aab52ca3>\u001b[0m in \u001b[0;36m<module>\u001b[0;34m\u001b[0m\n\u001b[0;32m----> 1\u001b[0;31m \u001b[0mF\u001b[0m\u001b[0;34m,\u001b[0m \u001b[0mmatched_points_a\u001b[0m\u001b[0;34m,\u001b[0m \u001b[0mmatched_points_b\u001b[0m \u001b[0;34m=\u001b[0m \u001b[0msc\u001b[0m\u001b[0;34m.\u001b[0m\u001b[0mransac_fundamental_matrix\u001b[0m\u001b[0;34m(\u001b[0m\u001b[0mpoints_2d_pic_a\u001b[0m\u001b[0;34m,\u001b[0m \u001b[0mpoints_2d_pic_b\u001b[0m\u001b[0;34m)\u001b[0m\u001b[0;34m\u001b[0m\u001b[0;34m\u001b[0m\u001b[0m\n\u001b[0m\u001b[1;32m      2\u001b[0m \u001b[0;34m\u001b[0m\u001b[0m\n\u001b[1;32m      3\u001b[0m \u001b[0;31m# Draw the epipolar lines on the images and corresponding matches\u001b[0m\u001b[0;34m\u001b[0m\u001b[0;34m\u001b[0m\u001b[0;34m\u001b[0m\u001b[0m\n\u001b[1;32m      4\u001b[0m match_image = show_correspondence2(pic_a, pic_b,\n\u001b[1;32m      5\u001b[0m                                    \u001b[0mmatched_points_a\u001b[0m\u001b[0;34m[\u001b[0m\u001b[0;34m:\u001b[0m\u001b[0;34m,\u001b[0m \u001b[0;36m0\u001b[0m\u001b[0;34m]\u001b[0m\u001b[0;34m,\u001b[0m \u001b[0mmatched_points_a\u001b[0m\u001b[0;34m[\u001b[0m\u001b[0;34m:\u001b[0m\u001b[0;34m,\u001b[0m \u001b[0;36m1\u001b[0m\u001b[0;34m]\u001b[0m\u001b[0;34m,\u001b[0m\u001b[0;34m\u001b[0m\u001b[0;34m\u001b[0m\u001b[0m\n",
      "\u001b[0;31mNameError\u001b[0m: name 'points_2d_pic_a' is not defined"
     ]
    }
   ],
   "source": [
    "F, matched_points_a, matched_points_b = sc.ransac_fundamental_matrix(points_2d_pic_a, points_2d_pic_b)\n",
    "\n",
    "# Draw the epipolar lines on the images and corresponding matches\n",
    "match_image = show_correspondence2(pic_a, pic_b,\n",
    "                                   matched_points_a[:, 0], matched_points_a[:, 1],\n",
    "                                   matched_points_b[:, 0], matched_points_b[:, 1])\n",
    "plt.figure(); plt.imshow(match_image)\n",
    "draw_epipolar_lines(F, pic_a, pic_b, matched_points_a, matched_points_b)"
   ]
  },
  {
   "cell_type": "code",
   "execution_count": null,
   "metadata": {},
   "outputs": [],
   "source": []
  },
  {
   "cell_type": "code",
   "execution_count": null,
   "metadata": {},
   "outputs": [],
   "source": []
  },
  {
   "cell_type": "code",
   "execution_count": null,
   "metadata": {},
   "outputs": [],
   "source": []
  },
  {
   "cell_type": "code",
   "execution_count": null,
   "metadata": {},
   "outputs": [],
   "source": []
  },
  {
   "cell_type": "code",
   "execution_count": null,
   "metadata": {},
   "outputs": [],
   "source": []
  },
  {
   "cell_type": "code",
   "execution_count": null,
   "metadata": {},
   "outputs": [],
   "source": []
  },
  {
   "cell_type": "code",
   "execution_count": null,
   "metadata": {},
   "outputs": [],
   "source": []
  },
  {
   "cell_type": "code",
   "execution_count": null,
   "metadata": {},
   "outputs": [],
   "source": []
  }
 ],
 "metadata": {
  "kernelspec": {
   "display_name": "Python 3",
   "language": "python",
   "name": "python3"
  },
  "language_info": {
   "codemirror_mode": {
    "name": "ipython",
    "version": 3
   },
   "file_extension": ".py",
   "mimetype": "text/x-python",
   "name": "python",
   "nbconvert_exporter": "python",
   "pygments_lexer": "ipython3",
   "version": "3.8.2"
  }
 },
 "nbformat": 4,
 "nbformat_minor": 2
}
