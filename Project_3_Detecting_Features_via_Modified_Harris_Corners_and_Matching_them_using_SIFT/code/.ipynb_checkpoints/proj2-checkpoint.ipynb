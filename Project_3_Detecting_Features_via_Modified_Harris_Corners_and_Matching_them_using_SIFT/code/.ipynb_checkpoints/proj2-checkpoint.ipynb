{
 "cells": [
  {
   "cell_type": "markdown",
   "metadata": {
    "deletable": true,
    "editable": true
   },
   "source": [
    "# CVPR Project 2: Detecting Lines and Circles\n",
    "\n",
    "All projects in this course will be done with these iPython notebooks. These are convenient ways for you to quickly and easily interact with the code. A notebook contains many blocks of code, each of which can be run independently. You can run a cell with ctrl+enter or shift+enter (to move to the next cell).\n",
    "\n",
    "If there are any notes you wish to leave for me as I test your code, you may leave them here.\n",
    "\n",
    "\n",
    "Notes: You must use a photo taken by you containing a few circles and lines, and test your code on that custom file. \n",
    "Save the file as final.jpg. I have given a dummpy final.jpg file, that you should replace with your own file. \n",
    "\n",
    "\n",
    "## Setup"
   ]
  },
  {
   "cell_type": "markdown",
   "metadata": {
    "deletable": true,
    "editable": true
   },
   "source": [
    "Both functions you need to implement in this project can be found in student_code.py. Start by implementing hough_lines_vote_acc and then hough_circles_vote_acc. Implement more efficient verison of find_circles for extra credit. "
   ]
  },
  {
   "cell_type": "code",
   "execution_count": null,
   "metadata": {
    "collapsed": false,
    "deletable": true,
    "editable": true
   },
   "outputs": [],
   "source": [
    "import cv2\n",
    "import numpy as np\n",
    "import matplotlib\n",
    "import matplotlib.pyplot as plt\n",
    "import time\n",
    "\n",
    "%matplotlib inline\n",
    "from utils import  hough_peaks, hough_lines_draw, hough_circles_draw, preprocess, plotFigure, plotFigureGray\n",
    "# from student_code\n",
    "\n",
    "from student_code import hough_lines_vote_acc, hough_circles_vote_acc, find_circles\n",
    "%load_ext autoreload\n",
    "%autoreload 2\n",
    "\n",
    "\n",
    "# load_image loads image as an BGR image.\n",
    "# The resultant array data-type is 'uint8' numpy array\n",
    "\n",
    "image0 = cv2.imread('../data/input0.png')\n",
    "image0noise = cv2.imread('../data/input0-noise.png')\n",
    "image1 = cv2.imread('../data/input1.png')\n",
    "image2 = cv2.imread('../data/input2.png')\n",
    "image3 = cv2.imread('../data/input3.png')\n",
    "\n",
    "\n",
    "plotFigure(image0)\n",
    "plotFigure(image0noise)\n",
    "plotFigure(image1)\n",
    "plotFigure(image2)\n",
    "plotFigure(image3)\n"
   ]
  },
  {
   "cell_type": "markdown",
   "metadata": {
    "deletable": true,
    "editable": true
   },
   "source": [
    "## Preprosseing. \n",
    "Feel Free to play with the arguments. "
   ]
  },
  {
   "cell_type": "code",
   "execution_count": null,
   "metadata": {
    "collapsed": false,
    "deletable": true,
    "editable": true
   },
   "outputs": [],
   "source": [
    "\n",
    "edge_img0 = preprocess(image0, 1, 1, 1, 40, 80) \n",
    "edge_img0noise = preprocess(image0noise, 1, 1, 1, 800, 800)  \n",
    "edge_img1 = preprocess(image1, 3, 11, 3, 20, 40)  \n",
    "edge_img2 = preprocess(image2, 5, 7, 5, 50, 100)  \n",
    "edge_img3 = preprocess(image3, 6, 7, 5, 20, 40)  "
   ]
  },
  {
   "cell_type": "code",
   "execution_count": null,
   "metadata": {
    "collapsed": false,
    "deletable": true,
    "editable": true
   },
   "outputs": [],
   "source": [
    "# display the images\n",
    "plotFigureGray(edge_img0)\n",
    "plotFigureGray(edge_img0noise)\n",
    "plotFigureGray(edge_img1)\n",
    "plotFigureGray(edge_img2)\n",
    "plotFigureGray(edge_img3)\n"
   ]
  },
  {
   "cell_type": "markdown",
   "metadata": {
    "deletable": true,
    "editable": true
   },
   "source": [
    "### Checkerboard Line Detection"
   ]
  },
  {
   "cell_type": "code",
   "execution_count": null,
   "metadata": {
    "collapsed": false,
    "deletable": true,
    "editable": true
   },
   "outputs": [],
   "source": [
    "\n",
    "\n",
    "start_time = time.time()\n",
    "H, thetas, rhos = hough_lines_vote_acc(edge_img0)\n",
    "cv2.imwrite('../results/img0HS.png', H)\n",
    "\n",
    "# Detect peaks on the hough space of the edge image and highlight them\n",
    "peaks = hough_peaks(H, numpeaks=10, threshold=100, nhood_size=50)\n",
    "\n",
    "H_peaks = H.copy()\n",
    "for peak in peaks:\n",
    "    cv2.circle(H_peaks, tuple(peak[::-1]), 8, (255,255,255), 1)\n",
    "cv2.imwrite('../results/img0HSHL.png', H_peaks)\n",
    "\n",
    "# Draw the detected lines on the image\n",
    "\n",
    "img_lines= image0.copy()\n",
    "hough_lines_draw(img_lines, '../results/img0line.png', peaks, rhos, thetas)\n",
    "print('Time elapsed: %.2f s'%(time.time()-start_time))"
   ]
  },
  {
   "cell_type": "markdown",
   "metadata": {
    "deletable": true,
    "editable": true
   },
   "source": [
    "### Checkerboard Line Detection (with noise)"
   ]
  },
  {
   "cell_type": "code",
   "execution_count": null,
   "metadata": {
    "collapsed": false,
    "deletable": true,
    "editable": true
   },
   "outputs": [],
   "source": [
    "start_time = time.time()\n",
    "\n",
    "\n",
    "H, thetas, rhos = hough_lines_vote_acc(edge_img0noise)\n",
    "cv2.imwrite('../results/image0noiseHS.png', H)\n",
    "\n",
    "# Detect peaks on the hough space of the edge image and highlight them\n",
    "peaks = hough_peaks(H, numpeaks=10, threshold=100, nhood_size=50)\n",
    "H_peaks = H.copy()\n",
    "for peak in peaks:\n",
    "    cv2.circle(H_peaks, tuple(peak[::-1]), 5, (255,255,255), -1)\n",
    "cv2.imwrite('../results/img0noiseHSHL.png', H_peaks)\n",
    "\n",
    "\n",
    "\n",
    "# Draw the detected lines on the image\n",
    "\n",
    "img_lines= image0noise.copy()\n",
    "hough_lines_draw(img_lines, '../results/img0noiseline.png', peaks, rhos, thetas)\n",
    "print('Time elapsed: %.2f s'%(time.time()-start_time))"
   ]
  },
  {
   "cell_type": "code",
   "execution_count": null,
   "metadata": {
    "collapsed": false,
    "deletable": true,
    "editable": true
   },
   "outputs": [],
   "source": [
    "edge_img1 = preprocess(image1, 3, 11, 3, 30, 40)  \n",
    "plotFigureGray(edge_img1)\n",
    "\n",
    "start_time = time.time()\n",
    "H, thetas, rhos = hough_lines_vote_acc(edge_img1)\n",
    "cv2.imwrite('../results/image1HS.png', H)\n",
    "\n",
    "# Detect peaks on the hough space of the edge image and highlight them\n",
    "peaks = hough_peaks(H, numpeaks=10, threshold=100, nhood_size=50)\n",
    "H_peaks = H.copy()\n",
    "for peak in peaks:\n",
    "    cv2.circle(H_peaks, tuple(peak[::-1]), 5, (255,255,255), -1)\n",
    "\n",
    "cv2.imwrite('../results/img1HSHL.png', H_peaks)\n",
    "\n",
    "\n",
    "# Draw the detected lines on the image\n",
    "\n",
    "img_lines= image1.copy()\n",
    "hough_lines_draw(img_lines, '../results/img1line.png', peaks, rhos, thetas)\n",
    "print('Time elapsed: %.2f s'%(time.time()-start_time))"
   ]
  },
  {
   "cell_type": "markdown",
   "metadata": {
    "deletable": true,
    "editable": true
   },
   "source": [
    "## Hough Circle Detector (fixed Radius)\n"
   ]
  },
  {
   "cell_type": "code",
   "execution_count": null,
   "metadata": {
    "collapsed": false,
    "deletable": true,
    "editable": true
   },
   "outputs": [],
   "source": [
    "edge_img1 = preprocess(image1, 3, 11, 3, 30, 40)  \n",
    "\n",
    "start_time = time.time()\n",
    "\n",
    "# detect circles with radius = 20 and save image\n",
    "H_20 = hough_circles_vote_acc(edge_img1, 20)\n",
    "cv2.imwrite('../results/image1CircleHS.png', H_20)\n",
    "\n",
    "peaks = hough_peaks(H_20, numpeaks=10, threshold=140, nhood_size=100)\n",
    "img_circles = image1.copy()\n",
    "img_circles = hough_circles_draw(img_circles, '../results/img1circle20.png', peaks, 20)\n",
    "\n",
    "print('Time elapsed: %.2f s'%(time.time()-start_time))"
   ]
  },
  {
   "cell_type": "markdown",
   "metadata": {
    "deletable": true,
    "editable": true
   },
   "source": [
    "## Hough Line and Circle Detector (Radius Range)"
   ]
  },
  {
   "cell_type": "code",
   "execution_count": null,
   "metadata": {
    "collapsed": false,
    "deletable": true,
    "editable": true
   },
   "outputs": [],
   "source": [
    "edge_img1 = preprocess(image1, 3, 11, 3, 20, 40)  \n",
    "start_time = time.time()\n",
    "\n",
    "\n",
    "H, thetas, rhos = hough_lines_vote_acc(edge_img1)\n",
    "# Detect peaks on the hough space of the edge image and highlight them\n",
    "peaks = hough_peaks(H, numpeaks=10, threshold=100, nhood_size=50)\n",
    "H_peaks = H.copy()\n",
    "for peak in peaks:\n",
    "    cv2.circle(H_peaks, tuple(peak[::-1]), 5, (255,255,255), -1)\n",
    "\n",
    "centers, radii = find_circles(edge_img1, [15, 40], threshold=108, nhood_size=100)\n",
    "img_circles = image1.copy()\n",
    "for i in range(len(radii)):\n",
    "    img_circles = hough_circles_draw(img_circles, '../results/img1circle20-40.png',\n",
    "                                     centers[i], radii[i])\n",
    "\n",
    "# Draw the detected lines on the image\n",
    "hough_lines_draw(img_circles, '../results/img1lineAndCircle.png', peaks, rhos, thetas)\n",
    "\n",
    "print('Time elapsed: %.2f'%(time.time()-start_time))\n"
   ]
  },
  {
   "cell_type": "markdown",
   "metadata": {
    "deletable": true,
    "editable": true
   },
   "source": [
    "### PlayZone. Play with any image of your choice. "
   ]
  },
  {
   "cell_type": "code",
   "execution_count": null,
   "metadata": {
    "collapsed": false,
    "deletable": true,
    "editable": true
   },
   "outputs": [],
   "source": [
    "img = cv2.imread('../data/final.jpg')\n",
    "\n",
    "plotFigure(img)\n",
    "\n",
    "edge_img = preprocess(img, 3, 11, 3, 20, 40)  \n",
    "start_time = time.time()\n",
    "\n",
    "\n",
    "H, thetas, rhos = hough_lines_vote_acc(edge_img)\n",
    "cv2.imwrite('../results/finalHS.png', H)\n",
    "\n",
    "# Detect peaks on the hough space of the edge image and highlight them\n",
    "peaks = hough_peaks(H, numpeaks=10, threshold=100, nhood_size=50)\n",
    "H_peaks = H.copy()\n",
    "for peak in peaks:\n",
    "    cv2.circle(H_peaks, tuple(peak[::-1]), 5, (255,255,255), -1)\n",
    "\n",
    "centers, radii = find_circles(edge_img, [15, 40], threshold=108, nhood_size=100)\n",
    "img_circles = img.copy()\n",
    "for i in range(len(radii)):\n",
    "    img_circles = hough_circles_draw(img_circles, '../results/finalCircles.png',\n",
    "                                     centers[i], radii[i])\n",
    "\n",
    "# Draw the detected lines on the image\n",
    "hough_lines_draw(img_circles, '../results/finalLinesAndCircles.png', peaks, rhos, thetas)\n",
    "\n",
    "print('Time elapsed: %.2f'%(time.time()-start_time))\n"
   ]
  }
 ],
 "metadata": {
  "kernelspec": {
   "display_name": "Python 3",
   "language": "python",
   "name": "python3"
  },
  "language_info": {
   "codemirror_mode": {
    "name": "ipython",
    "version": 3
   },
   "file_extension": ".py",
   "mimetype": "text/x-python",
   "name": "python",
   "nbconvert_exporter": "python",
   "pygments_lexer": "ipython3",
   "version": "3.5.2"
  },
  "widgets": {
   "state": {},
   "version": "1.1.2"
  }
 },
 "nbformat": 4,
 "nbformat_minor": 2
}
